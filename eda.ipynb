{
 "cells": [
  {
   "cell_type": "markdown",
   "id": "528c2a02-6c87-401d-af3e-6fe9b84a4ca7",
   "metadata": {},
   "source": [
    "Absenteeism at work\n",
    "\n",
    "Eric Dennis Analytics, April 2023"
   ]
  },
  {
   "cell_type": "markdown",
   "id": "cd5116d1-dcdf-4f51-9cf7-5e28bcf7caf1",
   "metadata": {},
   "source": [
    "EDA"
   ]
  },
  {
   "cell_type": "code",
   "execution_count": 1,
   "id": "82d7b9f5-9150-4534-8f80-32ef5c4e3770",
   "metadata": {},
   "outputs": [],
   "source": [
    "#installing appropriate packages\n",
    "import pandas as pd\n",
    "import numpy as np"
   ]
  },
  {
   "cell_type": "code",
   "execution_count": null,
   "id": "c0faf08d-4eee-4059-8e08-4277aeda2cf0",
   "metadata": {},
   "outputs": [],
   "source": [
    "#Importing Altair"
   ]
  },
  {
   "cell_type": "code",
   "execution_count": 2,
   "id": "4e1548f8-b626-4616-ac00-cb9dd031e038",
   "metadata": {},
   "outputs": [],
   "source": [
    "absentee_url = 'https://query.data.world/s/ucnvycwk2fnivnq3334znsgbukyen6'"
   ]
  },
  {
   "cell_type": "code",
   "execution_count": null,
   "id": "7280fcd1-5f41-448e-ac7c-2417a815b944",
   "metadata": {},
   "outputs": [],
   "source": []
  }
 ],
 "metadata": {
  "kernelspec": {
   "display_name": "Python 3 (ipykernel)",
   "language": "python",
   "name": "python3"
  },
  "language_info": {
   "codemirror_mode": {
    "name": "ipython",
    "version": 3
   },
   "file_extension": ".py",
   "mimetype": "text/x-python",
   "name": "python",
   "nbconvert_exporter": "python",
   "pygments_lexer": "ipython3",
   "version": "3.10.9"
  }
 },
 "nbformat": 4,
 "nbformat_minor": 5
}
